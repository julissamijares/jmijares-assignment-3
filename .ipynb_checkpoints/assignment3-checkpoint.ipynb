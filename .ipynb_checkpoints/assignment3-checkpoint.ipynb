{
 "cells": [
  {
   "cell_type": "markdown",
   "id": "245217cc",
   "metadata": {},
   "source": [
    "# Assignment: SVD Preprocessing on MNIST with Logistic Regression"
   ]
  },
  {
   "cell_type": "markdown",
   "id": "deffa444",
   "metadata": {},
   "source": [
    "## Instructions:\n",
    "In this assignment, you will apply **Singular Value Decomposition (SVD)** as a preprocessing step to the **MNIST dataset** and train a **logistic regression classifier**. You will compare the model performance and training time when using different levels of SVD for dimensionality reduction.\n",
    "\n",
    "In this assignment, you will need to:\n",
    "1. Load the MNIST dataset and normalize it.\n",
    "2. Perform SVD and reduce the dimensions of the data.\n",
    "3. Train a logistic regression model on the original and SVD-reduced data.\n",
    "4. Measure and compare the training time and accuracy of the model with varying SVD components.\n",
    "5. Plot the results and analyze how SVD impacts the performance and efficiency of the model.\n",
    "\n",
    "***\n",
    "Your tasks include:\n",
    "1. Implement SVD algorithm. You are not allowed to directly use SVD implemented by other packages, but you may use functions in NumPy. (Part 2)\n",
    "2. Explore the accuracy and time performance from different numbers of SVD components. (Part 4)\n",
    "3. Visualize the accuracy, time performance and top 5 singular vectors in the dataset, analyze and explain which number of SVD component looks best to you? (Part 4,5&6) Hint: singular vectors should be reshaped to 28x28 images for visualization.\n",
    "***\n",
    "**Note that you may not import any other function or package.** Let's get started!\n"
   ]
  },
  {
   "cell_type": "markdown",
   "id": "b3e10cb3",
   "metadata": {},
   "source": [
    "## Part 1: Load the MNIST dataset and preprocess the data"
   ]
  },
  {
   "cell_type": "code",
   "execution_count": 1,
   "id": "79f2d907",
   "metadata": {},
   "outputs": [
    {
     "name": "stdout",
     "output_type": "stream",
     "text": [
      "Loading MNIST dataset...\n"
     ]
    }
   ],
   "source": [
    "import numpy as np\n",
    "import matplotlib.pyplot as plt\n",
    "import time\n",
    "from sklearn.linear_model import LogisticRegression\n",
    "from sklearn.model_selection import train_test_split\n",
    "from sklearn.datasets import fetch_openml\n",
    "from sklearn.metrics import accuracy_score, classification_report\n",
    "\n",
    "# Load MNIST dataset\n",
    "print(\"Loading MNIST dataset...\")\n",
    "mnist = fetch_openml('mnist_784', version=1)\n",
    "X = mnist.data\n",
    "y = mnist.target\n",
    "\n",
    "# Normalize the data\n",
    "X = X / 255.0\n",
    "\n",
    "# Split into training and test sets\n",
    "X_train, X_test, y_train, y_test = train_test_split(X, y, test_size=0.2, random_state=42)\n"
   ]
  },
  {
   "cell_type": "markdown",
   "id": "28b8572d",
   "metadata": {},
   "source": [
    "## Part 2: Implement SVD for Dimensionality Reduction"
   ]
  },
  {
   "cell_type": "code",
   "execution_count": 2,
   "id": "b3bd59f3",
   "metadata": {},
   "outputs": [],
   "source": [
    "def apply_svd_custom(X_train, X_test, n_components):\n",
    "    # Center the data (subtract mean)\n",
    "    X_train_mean = np.mean(X_train, axis=0)\n",
    "    X_train_centered = X_train - X_train_mean\n",
    "    X_test_centered = X_test - X_train_mean\n",
    "\n",
    "    # Compute covariance matrix\n",
    "    covariance_matrix = np.dot(X_train_centered.T, X_train_centered) / X_train_centered.shape[0]\n",
    "\n",
    "    # Compute the eigenvalues and eigenvectors of the covariance matrix\n",
    "    eigenvalues, eigenvectors = np.linalg.eigh(covariance_matrix)\n",
    "\n",
    "    # Sort eigenvalues and eigenvectors in descending order\n",
    "    sorted_indices = np.argsort(eigenvalues)[::-1]\n",
    "    eigenvalues_sorted = eigenvalues[sorted_indices]\n",
    "    eigenvectors_sorted = eigenvectors[:, sorted_indices]\n",
    "\n",
    "    # Select the top n_components\n",
    "    U_reduced = eigenvectors_sorted[:, :n_components]\n",
    "\n",
    "    # Project the data onto the reduced eigenspace\n",
    "    X_train_svd = np.dot(X_train_centered, U_reduced)\n",
    "    X_test_svd = np.dot(X_test_centered, U_reduced)\n",
    "\n",
    "    return X_train_svd, X_test_svd, U_reduced"
   ]
  },
  {
   "cell_type": "markdown",
   "id": "eb2a7a9d",
   "metadata": {},
   "source": [
    "## Part 3: Train Logistic Regression and Measure Performance"
   ]
  },
  {
   "cell_type": "code",
   "execution_count": 3,
   "id": "dbfc0b10",
   "metadata": {},
   "outputs": [],
   "source": [
    "# Function to train logistic regression and track training time\n",
    "def train_logistic_regression(X_train, y_train, X_test, y_test):\n",
    "    model = LogisticRegression(max_iter=1000, solver='saga', random_state=42, multi_class='multinomial')\n",
    "    \n",
    "    # Measure training time\n",
    "    start_time = time.time()\n",
    "    model.fit(X_train, y_train)\n",
    "    training_time = time.time() - start_time\n",
    "    \n",
    "    y_pred = model.predict(X_test)\n",
    "    accuracy = accuracy_score(y_test, y_pred)\n",
    "    \n",
    "    return accuracy, training_time"
   ]
  },
  {
   "cell_type": "markdown",
   "id": "2e557a05",
   "metadata": {},
   "source": [
    "## Part 4: Experiment with Different Levels of SVD\n",
    "\n",
    "Now, apply SVD with varying numbers of components and observe how the dimensionality reduction impacts the model's performance. Record both the accuracy and training time for each number of components.\n"
   ]
  },
  {
   "cell_type": "code",
   "execution_count": 4,
   "id": "3a460725",
   "metadata": {},
   "outputs": [
    {
     "name": "stdout",
     "output_type": "stream",
     "text": [
      "Training models with different levels of SVD preprocessing...\n",
      "Applying custom SVD with 50 components...\n",
      "SVD components: 50, Accuracy: 0.9080, Training time: 42.5703 seconds\n",
      "Applying custom SVD with 30 components...\n",
      "SVD components: 30, Accuracy: 0.8922, Training time: 17.7076 seconds\n",
      "Applying custom SVD with 10 components...\n",
      "SVD components: 10, Accuracy: 0.8035, Training time: 3.3175 seconds\n"
     ]
    }
   ],
   "source": [
    "svd_components = [50, 30, 10]  # You need to decide what number to search...\n",
    "\n",
    "# Store the results\n",
    "results = []\n",
    "\n",
    "print(\"Training models with different levels of SVD preprocessing...\")\n",
    "for n_components in svd_components:\n",
    "    print(f\"Applying custom SVD with {n_components} components...\")\n",
    "    \n",
    "    # Apply SVD to the training and test sets\n",
    "    # Call apply_svd_custom() here...\n",
    "    X_train_svd, X_test_svd, U_reduced = apply_svd_custom(X_train, X_test, n_components)\n",
    "    \n",
    "    # Train the logistic regression model and get accuracy and training time\n",
    "    accuracy, training_time = train_logistic_regression(X_train_svd, y_train, X_test_svd, y_test)\n",
    "        \n",
    "    results.append({\n",
    "        'n_components': n_components,\n",
    "        'accuracy': accuracy,\n",
    "        'training_time': training_time\n",
    "    })\n",
    "    \n",
    "    print(f\"SVD components: {n_components}, Accuracy: {accuracy:.4f}, Training time: {training_time:.4f} seconds\")\n"
   ]
  },
  {
   "cell_type": "markdown",
   "id": "ea7aca12",
   "metadata": {},
   "source": [
    "## Part 5: Visualize and Analyze the Results\n",
    "\n",
    "Finally, plot the accuracy, training time as a function of the number of SVD components, and top 5 singular vectors. This will help you understand the trade-off between dimensionality reduction, accuracy, and model training time, and how SVD generally works. Hint: singular vectors should be reshaped to 28x28 images for visualization.\n"
   ]
  },
  {
   "cell_type": "code",
   "execution_count": null,
   "id": "92ef0497",
   "metadata": {},
   "outputs": [],
   "source": [
    "## Your implementation here...\n",
    "## You may add necessary lines in Part 4 to access data for visualization"
   ]
  },
  {
   "cell_type": "code",
   "execution_count": 5,
   "id": "0d9306bf",
   "metadata": {},
   "outputs": [
    {
     "data": {
      "image/png": "[encoded data removed]",
      "text/plain": [
       "<Figure size 1008x432 with 2 Axes>"
      ]
     },
     "metadata": {
      "needs_background": "light"
     },
     "output_type": "display_data"
    },
    {
     "data": {
      "image/png": "[encoded data removed]",
      "text/plain": [
       "<Figure size 720x144 with 5 Axes>"
      ]
     },
     "metadata": {
      "needs_background": "light"
     },
     "output_type": "display_data"
    }
   ],
   "source": [
    "# Plotting accuracy and training time as a function of the number of SVD components\n",
    "def plot_performance(results, U_reduced):\n",
    "    n_components = [result['n_components'] for result in results]\n",
    "    accuracies = [result['accuracy'] for result in results]\n",
    "    training_times = [result['training_time'] for result in results]\n",
    "\n",
    "    plt.figure(figsize=(14, 6))\n",
    "\n",
    "    # Plot accuracy\n",
    "    plt.subplot(1, 2, 1)\n",
    "    plt.plot(n_components, accuracies, marker='o')\n",
    "    plt.title('Accuracy vs Number of SVD Components')\n",
    "    plt.xlabel('Number of SVD Components')\n",
    "    plt.ylabel('Accuracy')\n",
    "\n",
    "    # Plot training time\n",
    "    plt.subplot(1, 2, 2)\n",
    "    plt.plot(n_components, training_times, marker='o')\n",
    "    plt.title('Training Time vs Number of SVD Components')\n",
    "    plt.xlabel('Number of SVD Components')\n",
    "    plt.ylabel('Training Time (seconds)')\n",
    "\n",
    "    plt.tight_layout()\n",
    "    plt.show()\n",
    "\n",
    "# Visualize the top 5 singular vectors as 28x28 images\n",
    "def plot_top_singular_vectors(U_reduced):\n",
    "    plt.figure(figsize=(10, 2))\n",
    "\n",
    "    for i in range(5):\n",
    "        singular_vector = U_reduced[:, i].reshape(28, 28)  # Reshape to 28x28 image\n",
    "        plt.subplot(1, 5, i+1)\n",
    "        plt.imshow(singular_vector, cmap='gray')\n",
    "        plt.title(f\"Singular Vector {i+1}\")\n",
    "        plt.axis('off')\n",
    "\n",
    "    plt.show()\n",
    "\n",
    "# Assuming 'results' contains the SVD components data and 'U_reduced' holds the singular vectors\n",
    "plot_performance(results, U_reduced)\n",
    "plot_top_singular_vectors(U_reduced)\n"
   ]
  },
  {
   "cell_type": "markdown",
   "id": "4210569a",
   "metadata": {},
   "source": [
    "## Part 6: Analyze / Conclusion \n",
    "\n",
    "YOUR ANSWER: "
   ]
  },
  {
   "cell_type": "markdown",
   "id": "2a68d756",
   "metadata": {},
   "source": [
    "Increasing the number of SVD components allows the logistic regression model to learn from a more detailed and complete version of the data, which helps improve prediction accuracy. However, this comes with a trade-off in terms of increased computational cost and training time."
   ]
  },
  {
   "cell_type": "code",
   "execution_count": null,
   "id": "56e7e2bc",
   "metadata": {},
   "outputs": [],
   "source": []
  }
 ],
 "metadata": {
  "kernelspec": {
   "display_name": "Python 3 (ipykernel)",
   "language": "python",
   "name": "python3"
  },
  "language_info": {
   "codemirror_mode": {
    "name": "ipython",
    "version": 3
   },
   "file_extension": ".py",
   "mimetype": "text/x-python",
   "name": "python",
   "nbconvert_exporter": "python",
   "pygments_lexer": "ipython3",
   "version": "3.9.12"
  }
 },
 "nbformat": 4,
 "nbformat_minor": 5
}
